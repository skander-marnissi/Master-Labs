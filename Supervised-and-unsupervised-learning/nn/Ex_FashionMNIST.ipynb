{
 "cells": [
  {
   "cell_type": "code",
   "execution_count": 4,
   "metadata": {},
   "outputs": [],
   "source": [
    "import numpy as np\n",
    "import pandas as pd\n",
    "import matplotlib.pyplot as plt\n",
    "\n",
    "from sklearn.preprocessing import scale\n",
    "from sklearn.metrics import confusion_matrix\n",
    "\n",
    "%matplotlib inline\n",
    "np.random.seed(42)\n",
    "\n",
    "data = pd.read_csv(\"./fashion-mnist_train.csv\")"
   ]
  },
  {
   "cell_type": "markdown",
   "metadata": {},
   "source": [
    "## Import data"
   ]
  },
  {
   "cell_type": "code",
   "execution_count": 5,
   "metadata": {},
   "outputs": [],
   "source": [
    "X = data.iloc[:,1:].values\n",
    "y = data.iloc[:,0].values"
   ]
  },
  {
   "cell_type": "code",
   "execution_count": 6,
   "metadata": {},
   "outputs": [],
   "source": [
    "# function to plot one image\n",
    "def plot_data(centers,vmin,vmax):\n",
    "    f, axarr = plt.subplots(1,centers.shape[0], sharex=True,sharey=True)\n",
    "    for i in range(centers.shape[0]):\n",
    "        axarr[i].imshow(centers[i,].reshape([28,28]),cmap='Greys',clim=(vmin, vmax),interpolation='nearest')\n",
    "        axarr[i].set(aspect='equal')\n",
    "        axarr[i].get_xaxis().set_visible(False)\n",
    "        axarr[i].get_yaxis().set_visible(False)"
   ]
  },
  {
   "cell_type": "code",
   "execution_count": 7,
   "metadata": {},
   "outputs": [
    {
     "data": {
      "image/png": "[encoded data removed]",
      "text/plain": [
       "<Figure size 432x288 with 10 Axes>"
      ]
     },
     "metadata": {
      "needs_background": "light"
     },
     "output_type": "display_data"
    }
   ],
   "source": [
    "# the 10 first images\n",
    "plot_data(X[0:10,],0,255)"
   ]
  },
  {
   "cell_type": "code",
   "execution_count": 10,
   "metadata": {},
   "outputs": [
    {
     "data": {
      "text/plain": [
       "array([2, 9, 6, ..., 8, 8, 7])"
      ]
     },
     "execution_count": 10,
     "metadata": {},
     "output_type": "execute_result"
    }
   ],
   "source": [
    "# and their labels shoes, jacket, ...\n",
    "y"
   ]
  },
  {
   "cell_type": "code",
   "execution_count": 11,
   "metadata": {},
   "outputs": [
    {
     "data": {
      "text/plain": [
       "OneHotEncoder()"
      ]
     },
     "execution_count": 11,
     "metadata": {},
     "output_type": "execute_result"
    }
   ],
   "source": [
    "# first we will encode them as binary vectors\n",
    "# ex : 2 -> [0,1,0,0,...]\n",
    "from sklearn.preprocessing import OneHotEncoder\n",
    "enc = OneHotEncoder()\n",
    "enc.fit(y.reshape(-1,1))"
   ]
  },
  {
   "cell_type": "code",
   "execution_count": 12,
   "metadata": {},
   "outputs": [],
   "source": [
    "# train / test split\n",
    "from sklearn.model_selection import train_test_split\n",
    "X_train, X_test, y_train, y_test = train_test_split(X, y, test_size=0.3, random_state=0)"
   ]
  },
  {
   "cell_type": "code",
   "execution_count": 21,
   "metadata": {},
   "outputs": [],
   "source": [
    "#  binary matrix of outputs\n",
    "Ybin_train = enc.transform(y_train.reshape(-1,1)).todense()\n",
    "Ybin_test = enc.transform(y_test.reshape(-1,1)).todense()"
   ]
  },
  {
   "cell_type": "code",
   "execution_count": 22,
   "metadata": {},
   "outputs": [],
   "source": [
    "# scaling of X\n",
    "from sklearn.preprocessing import StandardScaler\n",
    "scaler = StandardScaler()\n",
    "scaler.fit(X_train)\n",
    "X_train_centered = scaler.transform(np.array(X_train,np.float))\n",
    "X_test_centered  = scaler.transform(np.array(X_test,np.float))"
   ]
  },
  {
   "cell_type": "markdown",
   "metadata": {},
   "source": [
    "## MLP input = scaled vectors "
   ]
  },
  {
   "cell_type": "code",
   "execution_count": 23,
   "metadata": {},
   "outputs": [],
   "source": [
    "# cerate a mlp in keras\n",
    "from keras.layers import Layer,Input, Dense\n",
    "from keras.models import Model\n",
    "\n",
    "\n",
    "inputs = Input(shape=(X.shape[1],)) \n",
    "\n",
    "hidden = Dense(32,activation='relu')(inputs)\n",
    "\n",
    "outputs = Dense(10, activation='softmax')(hidden)\n",
    "\n",
    "model1 = Model(inputs,outputs)"
   ]
  },
  {
   "cell_type": "code",
   "execution_count": 24,
   "metadata": {},
   "outputs": [],
   "source": [
    "# compile loss defintion here classification categorical_crossentropy\n",
    "model1.compile(optimizer='adam',\n",
    "              loss='categorical_crossentropy',\n",
    "              metrics=['accuracy'])"
   ]
  },
  {
   "cell_type": "code",
   "execution_count": 25,
   "metadata": {},
   "outputs": [
    {
     "name": "stdout",
     "output_type": "stream",
     "text": [
      "Epoch 1/15\n",
      "2100/2100 [==============================] - 1s 510us/step - loss: 0.4976 - accuracy: 0.8253 - val_loss: 0.4069 - val_accuracy: 0.8563\n",
      "Epoch 2/15\n",
      "2100/2100 [==============================] - 1s 465us/step - loss: 0.3727 - accuracy: 0.8656 - val_loss: 0.4002 - val_accuracy: 0.8558\n",
      "Epoch 3/15\n",
      "2100/2100 [==============================] - 1s 466us/step - loss: 0.3334 - accuracy: 0.8781 - val_loss: 0.3781 - val_accuracy: 0.8695\n",
      "Epoch 4/15\n",
      "2100/2100 [==============================] - 1s 462us/step - loss: 0.3133 - accuracy: 0.8861 - val_loss: 0.3763 - val_accuracy: 0.8698\n",
      "Epoch 5/15\n",
      "2100/2100 [==============================] - 1s 464us/step - loss: 0.2943 - accuracy: 0.8916 - val_loss: 0.3734 - val_accuracy: 0.8685\n",
      "Epoch 6/15\n",
      "2100/2100 [==============================] - 1s 466us/step - loss: 0.2795 - accuracy: 0.8968 - val_loss: 0.3663 - val_accuracy: 0.8756\n",
      "Epoch 7/15\n",
      "2100/2100 [==============================] - 1s 471us/step - loss: 0.2658 - accuracy: 0.9013 - val_loss: 0.3648 - val_accuracy: 0.8758\n",
      "Epoch 8/15\n",
      "2100/2100 [==============================] - 1s 471us/step - loss: 0.2561 - accuracy: 0.9049 - val_loss: 0.3925 - val_accuracy: 0.8687\n",
      "Epoch 9/15\n",
      "2100/2100 [==============================] - 1s 471us/step - loss: 0.2473 - accuracy: 0.9085 - val_loss: 0.3789 - val_accuracy: 0.8711\n",
      "Epoch 10/15\n",
      "2100/2100 [==============================] - 1s 468us/step - loss: 0.2391 - accuracy: 0.9117 - val_loss: 0.3983 - val_accuracy: 0.8729\n",
      "Epoch 11/15\n",
      "2100/2100 [==============================] - 1s 467us/step - loss: 0.2289 - accuracy: 0.9160 - val_loss: 0.3929 - val_accuracy: 0.8725\n",
      "Epoch 12/15\n",
      "2100/2100 [==============================] - 1s 472us/step - loss: 0.2254 - accuracy: 0.9155 - val_loss: 0.4079 - val_accuracy: 0.8713\n",
      "Epoch 13/15\n",
      "2100/2100 [==============================] - 1s 467us/step - loss: 0.2173 - accuracy: 0.9180 - val_loss: 0.3935 - val_accuracy: 0.8765\n",
      "Epoch 14/15\n",
      "2100/2100 [==============================] - 1s 466us/step - loss: 0.2114 - accuracy: 0.9228 - val_loss: 0.4108 - val_accuracy: 0.8713\n",
      "Epoch 15/15\n",
      "2100/2100 [==============================] - 1s 464us/step - loss: 0.2067 - accuracy: 0.9233 - val_loss: 0.4190 - val_accuracy: 0.8748\n"
     ]
    }
   ],
   "source": [
    "# learn\n",
    "nbepoch = 15\n",
    "hist = model1.fit(X_train_centered,Ybin_train,batch_size=20,epochs=nbepoch,validation_data=(X_test_centered,Ybin_test))"
   ]
  },
  {
   "cell_type": "code",
   "execution_count": 53,
   "metadata": {},
   "outputs": [],
   "source": [
    "import matplotlib as mpl\n",
    "import matplotlib.pyplot as plt\n",
    "%matplotlib inline\n",
    "mpl.rcParams['figure.figsize'] = (16,8)"
   ]
  },
  {
   "cell_type": "code",
   "execution_count": 26,
   "metadata": {},
   "outputs": [
    {
     "data": {
      "image/png": "[encoded data removed]",
      "text/plain": [
       "<Figure size 432x288 with 1 Axes>"
      ]
     },
     "metadata": {
      "needs_background": "light"
     },
     "output_type": "display_data"
    }
   ],
   "source": [
    "# plot the results\n",
    "h=plt.plot(range(nbepoch),hist.history[\"loss\"],'-g',label='Train loss')\n",
    "h=plt.plot(range(nbepoch),hist.history[\"val_loss\"],'-r',label='Test loss')\n",
    "h=plt.title(u\"crossentropy with respect to epoch\")\n",
    "h=plt.xlabel(u\"# epoch\")"
   ]
  },
  {
   "cell_type": "code",
   "execution_count": 28,
   "metadata": {},
   "outputs": [
    {
     "data": {
      "image/png": "[encoded data removed]",
      "text/plain": [
       "<Figure size 432x288 with 1 Axes>"
      ]
     },
     "metadata": {
      "needs_background": "light"
     },
     "output_type": "display_data"
    }
   ],
   "source": [
    "# acuracy\n",
    "h=plt.plot(range(nbepoch),hist.history[\"accuracy\"],'-g',label='Train accuracy')\n",
    "h=plt.plot(range(nbepoch),hist.history[\"val_accuracy\"],'-r',label='Test accuracy')\n",
    "h=plt.title(u\"accuracy\")\n",
    "h=plt.xlabel(u\"# epoch\")"
   ]
  },
  {
   "cell_type": "markdown",
   "metadata": {},
   "source": [
    "## CNN input = images"
   ]
  },
  {
   "cell_type": "code",
   "execution_count": 29,
   "metadata": {},
   "outputs": [],
   "source": [
    "# reshape the X to 28*28 grayscale images\n",
    "Xim_train=X_train.reshape(X_train.shape[0],28,28,1)\n",
    "Xim_test=X_test.reshape(X_test.shape[0],28,28,1)"
   ]
  },
  {
   "cell_type": "code",
   "execution_count": 31,
   "metadata": {},
   "outputs": [],
   "source": [
    "# Define a CNN \n",
    "from keras.layers import BatchNormalization,Conv2D,Flatten,MaxPooling2D,Dropout\n",
    "\n",
    "inputs = Input(shape=(Xim_train.shape[1],Xim_train.shape[2],1))\n",
    "\n",
    "inn = BatchNormalization()(inputs)\n",
    "\n",
    "conv1 = Conv2D(64, (4, 4),  activation='relu')(inn)\n",
    "\n",
    "p1 = MaxPooling2D(pool_size=(2, 2))(conv1)\n",
    "\n",
    "d1 = Dropout(0.2)(p1)\n",
    "\n",
    "conv2 = Conv2D(64, (4, 4),  activation='relu')(d1)\n",
    "\n",
    "p2 = MaxPooling2D(pool_size=(2, 2))(conv2)\n",
    "\n",
    "d2 = Dropout(0.1)(p2)\n",
    "\n",
    "ifl = Flatten()(d2)\n",
    "\n",
    "hidden1 = Dense(100,activation='relu')(ifl)\n",
    "\n",
    "hd1 = Dropout(0.1)(hidden1)\n",
    "\n",
    "hidden2 = Dense(30,activation='relu')(hd1)\n",
    "\n",
    "hd2 = Dropout(0.1)(hidden2)\n",
    "\n",
    "outputs = Dense(10, activation='softmax')(hd2)\n",
    "\n",
    "model2 = Model(inputs,outputs)\n"
   ]
  },
  {
   "cell_type": "code",
   "execution_count": 32,
   "metadata": {},
   "outputs": [],
   "source": [
    "model2.compile(optimizer='adam',\n",
    "              loss='categorical_crossentropy',\n",
    "              metrics=['accuracy'])"
   ]
  },
  {
   "cell_type": "code",
   "execution_count": 33,
   "metadata": {
    "scrolled": true
   },
   "outputs": [
    {
     "name": "stdout",
     "output_type": "stream",
     "text": [
      "Epoch 1/10\n",
      "2100/2100 [==============================] - 13s 6ms/step - loss: 0.5754 - accuracy: 0.7918 - val_loss: 0.3675 - val_accuracy: 0.8659\n",
      "Epoch 2/10\n",
      "2100/2100 [==============================] - 14s 7ms/step - loss: 0.3982 - accuracy: 0.8555 - val_loss: 0.3356 - val_accuracy: 0.8786\n",
      "Epoch 3/10\n",
      "2100/2100 [==============================] - 14s 7ms/step - loss: 0.3536 - accuracy: 0.8714 - val_loss: 0.3270 - val_accuracy: 0.8814\n",
      "Epoch 4/10\n",
      "2100/2100 [==============================] - 14s 6ms/step - loss: 0.3252 - accuracy: 0.8824 - val_loss: 0.2976 - val_accuracy: 0.8932\n",
      "Epoch 5/10\n",
      "2100/2100 [==============================] - 14s 7ms/step - loss: 0.3042 - accuracy: 0.8877 - val_loss: 0.2858 - val_accuracy: 0.8967\n",
      "Epoch 6/10\n",
      "2100/2100 [==============================] - 14s 7ms/step - loss: 0.2819 - accuracy: 0.8949 - val_loss: 0.2889 - val_accuracy: 0.8961\n",
      "Epoch 7/10\n",
      "2100/2100 [==============================] - 14s 7ms/step - loss: 0.2724 - accuracy: 0.8991 - val_loss: 0.2875 - val_accuracy: 0.8948\n",
      "Epoch 8/10\n",
      "2100/2100 [==============================] - 14s 7ms/step - loss: 0.2606 - accuracy: 0.9031 - val_loss: 0.2684 - val_accuracy: 0.9030\n",
      "Epoch 9/10\n",
      "2100/2100 [==============================] - 14s 7ms/step - loss: 0.2491 - accuracy: 0.9066 - val_loss: 0.2733 - val_accuracy: 0.9040\n",
      "Epoch 10/10\n",
      "2100/2100 [==============================] - 14s 7ms/step - loss: 0.2372 - accuracy: 0.9116 - val_loss: 0.2720 - val_accuracy: 0.9022\n"
     ]
    }
   ],
   "source": [
    "nbepoch = 10\n",
    "hist = model2.fit(Xim_train,Ybin_train,batch_size=20,epochs=nbepoch,validation_data=(Xim_test,Ybin_test))"
   ]
  },
  {
   "cell_type": "code",
   "execution_count": 34,
   "metadata": {},
   "outputs": [
    {
     "data": {
      "image/png": "[encoded data removed]",
      "text/plain": [
       "<Figure size 432x288 with 1 Axes>"
      ]
     },
     "metadata": {
      "needs_background": "light"
     },
     "output_type": "display_data"
    }
   ],
   "source": [
    "h=plt.plot(range(nbepoch),hist.history[\"loss\"],'-g',label='Train loss')\n",
    "h=plt.plot(range(nbepoch),hist.history[\"val_loss\"],'-r',label='Test loss')\n",
    "h=plt.title(u\"crossentropy\")\n",
    "h=plt.xlabel(u\"# epoch\")"
   ]
  },
  {
   "cell_type": "code",
   "execution_count": 35,
   "metadata": {},
   "outputs": [
    {
     "data": {
      "image/png": "[encoded data removed]",
      "text/plain": [
       "<Figure size 432x288 with 1 Axes>"
      ]
     },
     "metadata": {
      "needs_background": "light"
     },
     "output_type": "display_data"
    }
   ],
   "source": [
    "h=plt.plot(range(nbepoch),hist.history[\"accuracy\"],'-g',label='Train accuracy')\n",
    "h=plt.plot(range(nbepoch),hist.history[\"val_accuracy\"],'-r',label='Test accuracy')\n",
    "h=plt.title(u\"accuracy\")\n",
    "h=plt.xlabel(u\"# epoch\")"
   ]
  },
  {
   "cell_type": "code",
   "execution_count": 36,
   "metadata": {},
   "outputs": [
    {
     "name": "stdout",
     "output_type": "stream",
     "text": [
      "563/563 [==============================] - 1s 2ms/step - loss: 0.2720 - accuracy: 0.9022\n"
     ]
    }
   ],
   "source": [
    "# testing set performance\n",
    "evaluation = model2.evaluate(Xim_test,Ybin_test)"
   ]
  },
  {
   "cell_type": "code",
   "execution_count": 37,
   "metadata": {},
   "outputs": [
    {
     "data": {
      "text/plain": [
       "[0.27201706171035767, 0.9021666646003723]"
      ]
     },
     "execution_count": 37,
     "metadata": {},
     "output_type": "execute_result"
    }
   ],
   "source": [
    "evaluation"
   ]
  },
  {
   "cell_type": "markdown",
   "metadata": {},
   "source": [
    "## Experiments \n",
    "\n",
    "Change the architecture of both network and compare the results\n",
    "\n"
   ]
  },
  {
   "cell_type": "code",
   "execution_count": null,
   "metadata": {},
   "outputs": [],
   "source": []
  }
 ],
 "metadata": {
  "kernelspec": {
   "display_name": "Python 3",
   "language": "python",
   "name": "python3"
  },
  "language_info": {
   "codemirror_mode": {
    "name": "ipython",
    "version": 3
   },
   "file_extension": ".py",
   "mimetype": "text/x-python",
   "name": "python",
   "nbconvert_exporter": "python",
   "pygments_lexer": "ipython3",
   "version": "3.8.5"
  }
 },
 "nbformat": 4,
 "nbformat_minor": 2
}
